{
 "cells": [
  {
   "cell_type": "code",
   "execution_count": 35,
   "metadata": {},
   "outputs": [],
   "source": [
    "import pandas as pd\n",
    "\n",
    "# Try reading with a different encoding\n",
    "try:\n",
    "    Rajasthan = pd.read_csv(\"C:/Users/Admin/Downloads/DDW_B18_0800_NIC_FINAL_STATE_RAJASTHAN-2011.csv\", encoding='ISO-8859-1')\n",
    "except UnicodeDecodeError:\n",
    "    Rajasthan = pd.read_csv(\"C:/Users/Admin/Downloads/DDW_B18_0800_NIC_FINAL_STATE_RAJASTHAN-2011.csv\", encoding='windows-1252')"
   ]
  },
  {
   "cell_type": "code",
   "execution_count": 36,
   "metadata": {},
   "outputs": [],
   "source": [
    "import pandas as pd\n",
    "\n",
    "# Try reading with a different encoding\n",
    "try:\n",
    "    arunachal = pd.read_csv(\"C:/Users/Admin/Downloads/DDW_B18_1200_NIC_FINAL_STATE_ARUNACHAL_PRADESH-2011.csv\", encoding='ISO-8859-1')\n",
    "except UnicodeDecodeError:\n",
    "    arunachal = pd.read_csv(\"C:/Users/Admin/Downloads/DDW_B18_1200_NIC_FINAL_STATE_ARUNACHAL_PRADESH-2011.csv\", encoding='windows-1252')"
   ]
  },
  {
   "cell_type": "code",
   "execution_count": 38,
   "metadata": {},
   "outputs": [],
   "source": [
    "import pandas as pd\n",
    "\n",
    "# Try reading with a different encoding\n",
    "try:\n",
    "    manipur = pd.read_csv(\"C:/Users/Admin/Downloads/DDW_B18_1400_NIC_FINAL_STATE_MANIPUR-2011.csv\", encoding='ISO-8859-1')\n",
    "except UnicodeDecodeError:\n",
    "    manipur = pd.read_csv(\"C:/Users/Admin/Downloads/DDW_B18_1400_NIC_FINAL_STATE_MANIPUR-2011.csv\", encoding='windows-1252')"
   ]
  },
  {
   "cell_type": "code",
   "execution_count": 39,
   "metadata": {},
   "outputs": [],
   "source": [
    "import pandas as pd\n",
    "\n",
    "# Try reading with a different encoding\n",
    "try:\n",
    "    mizoram = pd.read_csv(\"C:/Users/Admin/Downloads/DDW_B18_1500_NIC_FINAL_STATE_MIZORAM-2011.csv\", encoding='ISO-8859-1')\n",
    "except UnicodeDecodeError:\n",
    "    mizoram = pd.read_csv(\"C:/Users/Admin/Downloads/DDW_B18_1500_NIC_FINAL_STATE_MIZORAM-2011.csv\", encoding='windows-1252')"
   ]
  },
  {
   "cell_type": "code",
   "execution_count": 40,
   "metadata": {},
   "outputs": [],
   "source": [
    "import pandas as pd\n",
    "\n",
    "# Try reading with a different encoding\n",
    "try:\n",
    "    west_bengal = pd.read_csv(\"C:/Users/Admin/Downloads/DDW_B18_1900_NIC_FINAL_STATE_WEST_BENGAL-2011.csv\", encoding='ISO-8859-1')\n",
    "except UnicodeDecodeError:\n",
    "    west_bengal = pd.read_csv(\"C:/Users/Admin/Downloads/DDW_B18_1900_NIC_FINAL_STATE_WEST_BENGAL-2011.csv\", encoding='windows-1252')"
   ]
  },
  {
   "cell_type": "code",
   "execution_count": 41,
   "metadata": {},
   "outputs": [],
   "source": [
    "import pandas as pd\n",
    "\n",
    "# Try reading with a different encoding\n",
    "try:\n",
    "    delhi = pd.read_csv(\"C:/Users/Admin/Downloads/DDW_B18sc_0700_NIC_FINAL_STATE_NCT_OF_DELHI-2011.csv\", encoding='ISO-8859-1')\n",
    "except UnicodeDecodeError:\n",
    "    delhi = pd.read_csv(\"C:/Users/Admin/Downloads/DDW_B18sc_0700_NIC_FINAL_STATE_NCT_OF_DELHI-2011.csv\", encoding='windows-1252')"
   ]
  },
  {
   "cell_type": "code",
   "execution_count": 42,
   "metadata": {},
   "outputs": [],
   "source": [
    "import pandas as pd\n",
    "\n",
    "# Try reading with a different encoding\n",
    "try:\n",
    "    jharkhand = pd.read_csv(\"C:/Users/Admin/Downloads/DDW_B18sc_2000_NIC_FINAL_STATE_JHARKHAND-2011.csv\", encoding='ISO-8859-1')\n",
    "except UnicodeDecodeError:\n",
    "    jharkhand = pd.read_csv(\"C:/Users/Admin/Downloads/DDW_B18sc_2000_NIC_FINAL_STATE_JHARKHAND-2011.csv\", encoding='windows-1252')"
   ]
  },
  {
   "cell_type": "code",
   "execution_count": 43,
   "metadata": {},
   "outputs": [],
   "source": [
    "import pandas as pd\n",
    "\n",
    "# Try reading with a different encoding\n",
    "try:\n",
    "    gujarat = pd.read_csv(\"C:/Users/Admin/Downloads/DDW_B18sc_2400_NIC_FINAL_STATE_GUJARAT-2011.csv\", encoding='ISO-8859-1')\n",
    "except UnicodeDecodeError:\n",
    "    gujarat = pd.read_csv(\"C:/Users/Admin/Downloads/DDW_B18sc_2400_NIC_FINAL_STATE_GUJARAT-2011.csv\", encoding='windows-1252')"
   ]
  },
  {
   "cell_type": "code",
   "execution_count": 44,
   "metadata": {},
   "outputs": [],
   "source": [
    "import pandas as pd\n",
    "\n",
    "# Try reading with a different encoding\n",
    "try:\n",
    "    maharashtra = pd.read_csv(\"C:/Users/Admin/Downloads/DDW_B18sc_2700_NIC_FINAL_STATE_MAHARASHTRA-2011.csv\", encoding='ISO-8859-1')\n",
    "except UnicodeDecodeError:\n",
    "    maharashtra = pd.read_csv(\"C:/Users/Admin/Downloads/DDW_B18sc_2700_NIC_FINAL_STATE_MAHARASHTRA-2011.csv\", encoding='windows-1252')"
   ]
  },
  {
   "cell_type": "code",
   "execution_count": 45,
   "metadata": {},
   "outputs": [],
   "source": [
    "import pandas as pd\n",
    "\n",
    "# Try reading with a different encoding\n",
    "try:\n",
    "    karnataka = pd.read_csv(\"C:/Users/Admin/Downloads/DDW_B18sc_2900_NIC_FINAL_STATE_KARNATAKA-2011.csv\", encoding='ISO-8859-1')\n",
    "except UnicodeDecodeError:\n",
    "    karnataka = pd.read_csv(\"C:/Users/Admin/Downloads/DDW_B18sc_2900_NIC_FINAL_STATE_KARNATAKA-2011.csv\", encoding='windows-1252')"
   ]
  },
  {
   "cell_type": "code",
   "execution_count": 47,
   "metadata": {},
   "outputs": [],
   "source": [
    "import pandas as pd\n",
    "\n",
    "# Try reading with a different encoding\n",
    "try:\n",
    "    goa = pd.read_csv(\"C:/Users/Admin/Downloads/DDW_B18sc_3000_NIC_FINAL_STATE_GOA-2011.csv\", encoding='ISO-8859-1')\n",
    "except UnicodeDecodeError:\n",
    "    goa = pd.read_csv(\"C:/Users/Admin/Downloads/DDW_B18sc_3000_NIC_FINAL_STATE_GOA-2011.csv\", encoding='windows-1252')"
   ]
  },
  {
   "cell_type": "code",
   "execution_count": 48,
   "metadata": {},
   "outputs": [],
   "source": [
    "import pandas as pd\n",
    "\n",
    "# Try reading with a different encoding\n",
    "try:\n",
    "    kerala = pd.read_csv(\"C:/Users/Admin/Downloads/DDW_B18sc_3200_NIC_FINAL_STATE_KERALA-2011.csv\", encoding='ISO-8859-1')\n",
    "except UnicodeDecodeError:\n",
    "    kerala = pd.read_csv(\"C:/Users/Admin/Downloads/DDW_B18sc_3200_NIC_FINAL_STATE_KERALA-2011.csv\", encoding='windows-1252')"
   ]
  },
  {
   "cell_type": "code",
   "execution_count": 49,
   "metadata": {},
   "outputs": [],
   "source": [
    "import pandas as pd\n",
    "\n",
    "# Try reading with a different encoding\n",
    "try:\n",
    "    tamilnadu = pd.read_csv(\"C:/Users/Admin/Downloads/DDW_B18sc_3300_NIC_FINAL_STATE_TAMIL_NADU-2011.csv\", encoding='ISO-8859-1')\n",
    "except UnicodeDecodeError:\n",
    "    tamilnadu = pd.read_csv(\"C:/Users/Admin/Downloads/DDW_B18sc_3300_NIC_FINAL_STATE_TAMIL_NADU-2011.csv\", encoding='windows-1252')"
   ]
  },
  {
   "cell_type": "code",
   "execution_count": 50,
   "metadata": {},
   "outputs": [],
   "source": [
    "import pandas as pd\n",
    "\n",
    "# Try reading with a different encoding\n",
    "try:\n",
    "    tamilnadu = pd.read_csv(\"C:/Users/Admin/Downloads/DDW_B18sc_3400_NIC_FINAL_STATE_PUDUCHERRY-2011.csv\", encoding='ISO-8859-1')\n",
    "except UnicodeDecodeError:\n",
    "    tamilnadu = pd.read_csv(\"C:/Users/Admin/Downloads/DDW_B18sc_3400_NIC_FINAL_STATE_PUDUCHERRY-2011.csv\", encoding='windows-1252')"
   ]
  },
  {
   "cell_type": "code",
   "execution_count": 51,
   "metadata": {},
   "outputs": [],
   "source": [
    "import pandas as pd\n",
    "\n",
    "# Try reading with a different encoding\n",
    "try:\n",
    "    himachal_pradesh = pd.read_csv(\"C:/Users/Admin/Downloads/DDW_B18st_0200_NIC_FINAL_STATE_HIMACHAL_PRADESH-2011.csv\", encoding='ISO-8859-1')\n",
    "except UnicodeDecodeError:\n",
    "    himachal_pradesh = pd.read_csv(\"C:/Users/Admin/Downloads/DDW_B18st_0200_NIC_FINAL_STATE_HIMACHAL_PRADESH-2011.csv\", encoding='windows-1252')"
   ]
  },
  {
   "cell_type": "code",
   "execution_count": 52,
   "metadata": {},
   "outputs": [],
   "source": [
    "import pandas as pd\n",
    "\n",
    "# Try reading with a different encoding\n",
    "try:\n",
    "    uttarakhand = pd.read_csv(\"C:/Users/Admin/Downloads/DDW_B18st_0500_NIC_FINAL_STATE_UTTARAKHAND-2011.csv\", encoding='ISO-8859-1')\n",
    "except UnicodeDecodeError:\n",
    "    uttarakhand = pd.read_csv(\"C:/Users/Admin/Downloads/DDW_B18st_0500_NIC_FINAL_STATE_UTTARAKHAND-2011.csv\", encoding='windows-1252')"
   ]
  },
  {
   "cell_type": "code",
   "execution_count": 53,
   "metadata": {},
   "outputs": [],
   "source": [
    "import pandas as pd\n",
    "\n",
    "# Try reading with a different encoding\n",
    "try:\n",
    "    uttara_pradesh= pd.read_csv(\"C:/Users/Admin/Downloads/DDW_B18st_0900_NIC_FINAL_STATE_UTTAR_PRADESH-2011.csv\", encoding='ISO-8859-1')\n",
    "except UnicodeDecodeError:\n",
    "    uttara_pradesh = pd.read_csv(\"C:/Users/Admin/Downloads/DDW_B18st_0900_NIC_FINAL_STATE_UTTAR_PRADESH-2011.csv\", encoding='windows-1252')"
   ]
  },
  {
   "cell_type": "code",
   "execution_count": 54,
   "metadata": {},
   "outputs": [],
   "source": [
    "import pandas as pd\n",
    "\n",
    "# Try reading with a different encoding\n",
    "try:\n",
    "    bihar= pd.read_csv(\"C:/Users/Admin/Downloads/DDW_B18st_1000_NIC_FINAL_STATE_BIHAR-2011.csv\", encoding='ISO-8859-1')\n",
    "except UnicodeDecodeError:\n",
    "    bihar = pd.read_csv(\"C:/Users/Admin/Downloads/DDW_B18st_0900_NIC_FINAL_STATE_UTTAR_PRADESH-2011.csv\", encoding='windows-1252')"
   ]
  },
  {
   "cell_type": "code",
   "execution_count": 55,
   "metadata": {},
   "outputs": [],
   "source": [
    "import pandas as pd\n",
    "\n",
    "# Try reading with a different encoding\n",
    "try:\n",
    "    sikkim= pd.read_csv(\"C:/Users/Admin/Downloads/DDW_B18st_1100_NIC_FINAL_STATE_SIKKIM-2011.csv\", encoding='ISO-8859-1')\n",
    "except UnicodeDecodeError:\n",
    "    sikkim = pd.read_csv(\"C:/Users/Admin/Downloads/DDW_B18st_1100_NIC_FINAL_STATE_SIKKIM-2011.csv\", encoding='windows-1252')"
   ]
  },
  {
   "cell_type": "code",
   "execution_count": 56,
   "metadata": {},
   "outputs": [],
   "source": [
    "import pandas as pd\n",
    "\n",
    "# Try reading with a different encoding\n",
    "try:\n",
    "    nagaland= pd.read_csv(\"C:/Users/Admin/Downloads/DDW_B18st_1300_NIC_FINAL_STATE_NAGALAND-2011.csv\", encoding='ISO-8859-1')\n",
    "except UnicodeDecodeError:\n",
    "    nagaland = pd.read_csv(\"C:/Users/Admin/Downloads/DDW_B18st_1300_NIC_FINAL_STATE_NAGALAND-2011.csv\", encoding='windows-1252')"
   ]
  },
  {
   "cell_type": "code",
   "execution_count": 57,
   "metadata": {},
   "outputs": [],
   "source": [
    "import pandas as pd\n",
    "\n",
    "# Try reading with a different encoding\n",
    "try:\n",
    "    assam= pd.read_csv(\"C:/Users/Admin/Downloads/DDW_B18st_1800_NIC_FINAL_STATE_ASSAM-2011.csv\", encoding='ISO-8859-1')\n",
    "except UnicodeDecodeError:\n",
    "    assam = pd.read_csv(\"C:/Users/Admin/Downloads/DDW_B18st_1800_NIC_FINAL_STATE_ASSAM-2011.csv\", encoding='windows-1252')"
   ]
  },
  {
   "cell_type": "code",
   "execution_count": 58,
   "metadata": {},
   "outputs": [],
   "source": [
    "import pandas as pd\n",
    "\n",
    "# Try reading with a different encoding\n",
    "try:\n",
    "    odisha= pd.read_csv(\"C:/Users/Admin/Downloads/DDW_B18st_2100_NIC_FINAL_STATE_ODISHA-2011.csv\", encoding='ISO-8859-1')\n",
    "except UnicodeDecodeError:\n",
    "    odisha = pd.read_csv(\"C:/Users/Admin/Downloads/DDW_B18st_2100_NIC_FINAL_STATE_ODISHA-2011.csv\", encoding='windows-1252')"
   ]
  },
  {
   "cell_type": "code",
   "execution_count": 60,
   "metadata": {},
   "outputs": [
    {
     "name": "stdout",
     "output_type": "stream",
     "text": [
      "<class 'pandas.core.frame.DataFrame'>\n",
      "RangeIndex: 193124 entries, 0 to 193123\n",
      "Data columns (total 25 columns):\n",
      " #   Column                               Non-Null Count   Dtype \n",
      "---  ------                               --------------   ----- \n",
      " 0   State Code                           193124 non-null  object\n",
      " 1   District Code                        193124 non-null  object\n",
      " 2   India/States                         193124 non-null  object\n",
      " 3   Division                             193124 non-null  object\n",
      " 4   Group                                193124 non-null  object\n",
      " 5   Class                                193124 non-null  object\n",
      " 6   NIC Name                             193124 non-null  object\n",
      " 7   Main Workers - Total -  Persons      193124 non-null  int64 \n",
      " 8   Main Workers - Total - Males         193124 non-null  int64 \n",
      " 9   Main Workers - Total - Females       193124 non-null  int64 \n",
      " 10  Main Workers - Rural -  Persons      193124 non-null  int64 \n",
      " 11  Main Workers - Rural - Males         193124 non-null  int64 \n",
      " 12  Main Workers - Rural - Females       193124 non-null  int64 \n",
      " 13  Main Workers - Urban -  Persons      193124 non-null  int64 \n",
      " 14  Main Workers - Urban - Males         193124 non-null  int64 \n",
      " 15  Main Workers - Urban - Females       193124 non-null  int64 \n",
      " 16  Marginal Workers - Total -  Persons  193124 non-null  int64 \n",
      " 17  Marginal Workers - Total - Males     193124 non-null  int64 \n",
      " 18  Marginal Workers - Total - Females   193124 non-null  int64 \n",
      " 19  Marginal Workers - Rural -  Persons  193124 non-null  int64 \n",
      " 20  Marginal Workers - Rural - Males     193124 non-null  int64 \n",
      " 21  Marginal Workers - Rural - Females   193124 non-null  int64 \n",
      " 22  Marginal Workers - Urban -  Persons  193124 non-null  int64 \n",
      " 23  Marginal Workers - Urban - Males     193124 non-null  int64 \n",
      " 24  Marginal Workers - Urban - Females   193124 non-null  int64 \n",
      "dtypes: int64(18), object(7)\n",
      "memory usage: 36.8+ MB\n",
      "None\n",
      "  State Code District Code       India/States Division Group  Class  \\\n",
      "0        `08          `000  STATE - RAJASTHAN      `00  `000  `0000   \n",
      "1        `08          `000  STATE - RAJASTHAN      `01  `000  `0000   \n",
      "2        `08          `000  STATE - RAJASTHAN      `01  `011  `0000   \n",
      "3        `08          `000  STATE - RAJASTHAN      `01  `011  `0111   \n",
      "4        `08          `000  STATE - RAJASTHAN      `01  `011  `0112   \n",
      "\n",
      "                                            NIC Name  \\\n",
      "0                                              Total   \n",
      "1  Crop and animal production, hunting and relate...   \n",
      "2                     Growing of non-perennial crops   \n",
      "3  Growing of cereals (except rice), leguminous c...   \n",
      "4                                    Growing of rice   \n",
      "\n",
      "   Main Workers - Total -  Persons  Main Workers - Total - Males  \\\n",
      "0                          9017944                       7594737   \n",
      "1                           450766                        201572   \n",
      "2                            12876                         10547   \n",
      "3                            12061                          9911   \n",
      "4                               79                            71   \n",
      "\n",
      "   Main Workers - Total - Females  ...  Main Workers - Urban - Females  \\\n",
      "0                         1423207  ...                          618445   \n",
      "1                          249194  ...                           19810   \n",
      "2                            2329  ...                            1013   \n",
      "3                            2150  ...                             942   \n",
      "4                               8  ...                               2   \n",
      "\n",
      "   Marginal Workers - Total -  Persons  Marginal Workers - Total - Males  \\\n",
      "0                              2307752                           1046813   \n",
      "1                               408728                             76106   \n",
      "2                                 9562                              4051   \n",
      "3                                 9085                              3883   \n",
      "4                                   13                                 4   \n",
      "\n",
      "   Marginal Workers - Total - Females  Marginal Workers - Rural -  Persons  \\\n",
      "0                             1260939                              1825830   \n",
      "1                              332622                               390864   \n",
      "2                                5511                                 8147   \n",
      "3                                5202                                 7777   \n",
      "4                                   9                                   11   \n",
      "\n",
      "   Marginal Workers - Rural - Males  Marginal Workers - Rural - Females  \\\n",
      "0                            749381                             1076449   \n",
      "1                             71124                              319740   \n",
      "2                              3295                                4852   \n",
      "3                              3161                                4616   \n",
      "4                                 2                                   9   \n",
      "\n",
      "   Marginal Workers - Urban -  Persons  Marginal Workers - Urban - Males  \\\n",
      "0                               481922                            297432   \n",
      "1                                17864                              4982   \n",
      "2                                 1415                               756   \n",
      "3                                 1308                               722   \n",
      "4                                    2                                 2   \n",
      "\n",
      "   Marginal Workers - Urban - Females  \n",
      "0                              184490  \n",
      "1                               12882  \n",
      "2                                 659  \n",
      "3                                 586  \n",
      "4                                   0  \n",
      "\n",
      "[5 rows x 25 columns]\n"
     ]
    }
   ],
   "source": [
    "import pandas as pd\n",
    "\n",
    "# List to hold all the DataFrames\n",
    "dataframes = []\n",
    "\n",
    "# Function to read CSV with specified encodings\n",
    "def read_csv_with_encoding(file_path):\n",
    "    try:\n",
    "        return pd.read_csv(file_path, encoding='ISO-8859-1')\n",
    "    except UnicodeDecodeError:\n",
    "        return pd.read_csv(file_path, encoding='windows-1252')\n",
    "\n",
    "# List of file paths\n",
    "file_paths = [\n",
    "    \"C:/Users/Admin/Downloads/DDW_B18_0800_NIC_FINAL_STATE_RAJASTHAN-2011.csv\",\n",
    "    \"C:/Users/Admin/Downloads/DDW_B18_1200_NIC_FINAL_STATE_ARUNACHAL_PRADESH-2011.csv\",\n",
    "    \"C:/Users/Admin/Downloads/DDW_B18_1400_NIC_FINAL_STATE_MANIPUR-2011.csv\",\n",
    "    \"C:/Users/Admin/Downloads/DDW_B18_1500_NIC_FINAL_STATE_MIZORAM-2011.csv\",\n",
    "    \"C:/Users/Admin/Downloads/DDW_B18_1900_NIC_FINAL_STATE_WEST_BENGAL-2011.csv\",\n",
    "    \"C:/Users/Admin/Downloads/DDW_B18sc_0700_NIC_FINAL_STATE_NCT_OF_DELHI-2011.csv\",\n",
    "    \"C:/Users/Admin/Downloads/DDW_B18sc_2000_NIC_FINAL_STATE_JHARKHAND-2011.csv\",\n",
    "    \"C:/Users/Admin/Downloads/DDW_B18sc_2400_NIC_FINAL_STATE_GUJARAT-2011.csv\",\n",
    "    \"C:/Users/Admin/Downloads/DDW_B18sc_2700_NIC_FINAL_STATE_MAHARASHTRA-2011.csv\",\n",
    "    \"C:/Users/Admin/Downloads/DDW_B18sc_2900_NIC_FINAL_STATE_KARNATAKA-2011.csv\",\n",
    "    \"C:/Users/Admin/Downloads/DDW_B18sc_3000_NIC_FINAL_STATE_GOA-2011.csv\",\n",
    "    \"C:/Users/Admin/Downloads/DDW_B18sc_3200_NIC_FINAL_STATE_KERALA-2011.csv\",\n",
    "    \"C:/Users/Admin/Downloads/DDW_B18sc_3300_NIC_FINAL_STATE_TAMIL_NADU-2011.csv\",\n",
    "    \"C:/Users/Admin/Downloads/DDW_B18sc_3400_NIC_FINAL_STATE_PUDUCHERRY-2011.csv\",\n",
    "    \"C:/Users/Admin/Downloads/DDW_B18st_0200_NIC_FINAL_STATE_HIMACHAL_PRADESH-2011.csv\",\n",
    "    \"C:/Users/Admin/Downloads/DDW_B18st_0500_NIC_FINAL_STATE_UTTARAKHAND-2011.csv\",\n",
    "    \"C:/Users/Admin/Downloads/DDW_B18st_0900_NIC_FINAL_STATE_UTTAR_PRADESH-2011.csv\",\n",
    "    \"C:/Users/Admin/Downloads/DDW_B18st_1000_NIC_FINAL_STATE_BIHAR-2011.csv\",\n",
    "    \"C:/Users/Admin/Downloads/DDW_B18st_1100_NIC_FINAL_STATE_SIKKIM-2011.csv\",\n",
    "    \"C:/Users/Admin/Downloads/DDW_B18st_1300_NIC_FINAL_STATE_NAGALAND-2011.csv\",\n",
    "    \"C:/Users/Admin/Downloads/DDW_B18st_1800_NIC_FINAL_STATE_ASSAM-2011.csv\",\n",
    "    \"C:/Users/Admin/Downloads/DDW_B18st_2100_NIC_FINAL_STATE_ODISHA-2011.csv\",\n",
    "]\n",
    "\n",
    "# Read each file and append DataFrame to the list\n",
    "for file_path in file_paths:\n",
    "    df = read_csv_with_encoding(file_path)  # Use file_path here\n",
    "    dataframes.append(df)\n",
    "\n",
    "# Concatenate all DataFrames into a single DataFrame\n",
    "combined_data = pd.concat(dataframes, ignore_index=True)\n",
    "\n",
    "# Check the combined DataFrame\n",
    "print(combined_data.info())\n",
    "print(combined_data.head())"
   ]
  },
  {
   "cell_type": "code",
   "execution_count": 62,
   "metadata": {},
   "outputs": [
    {
     "name": "stdout",
     "output_type": "stream",
     "text": [
      "Combined data saved to C:/Users/Admin/Downloads/allstatecombined_data.csv\n"
     ]
    }
   ],
   "source": [
    "# Specify the output file path\n",
    "output_file_path = \"C:/Users/Admin/Downloads/allstatecombined_data.csv\"\n",
    "\n",
    "# Save the combined DataFrame to a CSV file\n",
    "combined_data.to_csv(output_file_path, index=False)\n",
    "\n",
    "print(f\"Combined data saved to {output_file_path}\")"
   ]
  },
  {
   "cell_type": "code",
   "execution_count": 63,
   "metadata": {},
   "outputs": [],
   "source": [
    "pd.set_option(\"display.max_columns\", None)\n"
   ]
  },
  {
   "cell_type": "code",
   "execution_count": 64,
   "metadata": {},
   "outputs": [
    {
     "name": "stdout",
     "output_type": "stream",
     "text": [
      "<class 'pandas.core.frame.DataFrame'>\n",
      "RangeIndex: 12047 entries, 0 to 12046\n",
      "Data columns (total 25 columns):\n",
      " #   Column                               Non-Null Count  Dtype \n",
      "---  ------                               --------------  ----- \n",
      " 0   State Code                           12047 non-null  object\n",
      " 1   District Code                        12047 non-null  object\n",
      " 2   India/States                         12047 non-null  object\n",
      " 3   Division                             12047 non-null  object\n",
      " 4   Group                                12047 non-null  object\n",
      " 5   Class                                12047 non-null  object\n",
      " 6   NIC Name                             12047 non-null  object\n",
      " 7   Main Workers - Total -  Persons      12047 non-null  int64 \n",
      " 8   Main Workers - Total - Males         12047 non-null  int64 \n",
      " 9   Main Workers - Total - Females       12047 non-null  int64 \n",
      " 10  Main Workers - Rural -  Persons      12047 non-null  int64 \n",
      " 11  Main Workers - Rural - Males         12047 non-null  int64 \n",
      " 12  Main Workers - Rural - Females       12047 non-null  int64 \n",
      " 13  Main Workers - Urban -  Persons      12047 non-null  int64 \n",
      " 14  Main Workers - Urban - Males         12047 non-null  int64 \n",
      " 15  Main Workers - Urban - Females       12047 non-null  int64 \n",
      " 16  Marginal Workers - Total -  Persons  12047 non-null  int64 \n",
      " 17  Marginal Workers - Total - Males     12047 non-null  int64 \n",
      " 18  Marginal Workers - Total - Females   12047 non-null  int64 \n",
      " 19  Marginal Workers - Rural -  Persons  12047 non-null  int64 \n",
      " 20  Marginal Workers - Rural - Males     12047 non-null  int64 \n",
      " 21  Marginal Workers - Rural - Females   12047 non-null  int64 \n",
      " 22  Marginal Workers - Urban -  Persons  12047 non-null  int64 \n",
      " 23  Marginal Workers - Urban - Males     12047 non-null  int64 \n",
      " 24  Marginal Workers - Urban - Females   12047 non-null  int64 \n",
      "dtypes: int64(18), object(7)\n",
      "memory usage: 2.3+ MB\n"
     ]
    }
   ],
   "source": [
    "df.info()\n"
   ]
  },
  {
   "cell_type": "code",
   "execution_count": 65,
   "metadata": {},
   "outputs": [
    {
     "data": {
      "text/plain": [
       "State Code                             object\n",
       "District Code                          object\n",
       "India/States                           object\n",
       "Division                               object\n",
       "Group                                  object\n",
       "Class                                  object\n",
       "NIC Name                               object\n",
       "Main Workers - Total -  Persons         int64\n",
       "Main Workers - Total - Males            int64\n",
       "Main Workers - Total - Females          int64\n",
       "Main Workers - Rural -  Persons         int64\n",
       "Main Workers - Rural - Males            int64\n",
       "Main Workers - Rural - Females          int64\n",
       "Main Workers - Urban -  Persons         int64\n",
       "Main Workers - Urban - Males            int64\n",
       "Main Workers - Urban - Females          int64\n",
       "Marginal Workers - Total -  Persons     int64\n",
       "Marginal Workers - Total - Males        int64\n",
       "Marginal Workers - Total - Females      int64\n",
       "Marginal Workers - Rural -  Persons     int64\n",
       "Marginal Workers - Rural - Males        int64\n",
       "Marginal Workers - Rural - Females      int64\n",
       "Marginal Workers - Urban -  Persons     int64\n",
       "Marginal Workers - Urban - Males        int64\n",
       "Marginal Workers - Urban - Females      int64\n",
       "dtype: object"
      ]
     },
     "execution_count": 65,
     "metadata": {},
     "output_type": "execute_result"
    }
   ],
   "source": [
    "df.dtypes\n"
   ]
  },
  {
   "cell_type": "code",
   "execution_count": 66,
   "metadata": {},
   "outputs": [
    {
     "data": {
      "text/plain": [
       "[0, 0, 0, 0, 0, 0, 0, 0, 0, 0, 0, 0, 0, 0, 0, 0, 0, 0, 0, 0, 0, 0, 0, 0, 0]"
      ]
     },
     "execution_count": 66,
     "metadata": {},
     "output_type": "execute_result"
    }
   ],
   "source": [
    "df.isnull().sum().tolist()\n"
   ]
  },
  {
   "cell_type": "code",
   "execution_count": 67,
   "metadata": {},
   "outputs": [
    {
     "data": {
      "text/plain": [
       "Series([], dtype: int64)"
      ]
     },
     "execution_count": 67,
     "metadata": {},
     "output_type": "execute_result"
    }
   ],
   "source": [
    "# Get the count of missing values for each column\n",
    "missing_value_counts = df.isnull().sum()\n",
    "\n",
    "# Filter out columns with no missing values\n",
    "missing_columns = missing_value_counts[missing_value_counts > 0]\n",
    "\n",
    "# Display the column names and their missing value counts\n",
    "missing_columns"
   ]
  },
  {
   "cell_type": "code",
   "execution_count": 68,
   "metadata": {},
   "outputs": [
    {
     "name": "stdout",
     "output_type": "stream",
     "text": [
      "<class 'pandas.core.frame.DataFrame'>\n",
      "RangeIndex: 12047 entries, 0 to 12046\n",
      "Data columns (total 25 columns):\n",
      " #   Column                               Non-Null Count  Dtype \n",
      "---  ------                               --------------  ----- \n",
      " 0   State Code                           12047 non-null  object\n",
      " 1   District Code                        12047 non-null  object\n",
      " 2   India/States                         12047 non-null  object\n",
      " 3   Division                             12047 non-null  object\n",
      " 4   Group                                12047 non-null  object\n",
      " 5   Class                                12047 non-null  object\n",
      " 6   NIC Name                             12047 non-null  object\n",
      " 7   Main Workers - Total -  Persons      12047 non-null  int64 \n",
      " 8   Main Workers - Total - Males         12047 non-null  int64 \n",
      " 9   Main Workers - Total - Females       12047 non-null  int64 \n",
      " 10  Main Workers - Rural -  Persons      12047 non-null  int64 \n",
      " 11  Main Workers - Rural - Males         12047 non-null  int64 \n",
      " 12  Main Workers - Rural - Females       12047 non-null  int64 \n",
      " 13  Main Workers - Urban -  Persons      12047 non-null  int64 \n",
      " 14  Main Workers - Urban - Males         12047 non-null  int64 \n",
      " 15  Main Workers - Urban - Females       12047 non-null  int64 \n",
      " 16  Marginal Workers - Total -  Persons  12047 non-null  int64 \n",
      " 17  Marginal Workers - Total - Males     12047 non-null  int64 \n",
      " 18  Marginal Workers - Total - Females   12047 non-null  int64 \n",
      " 19  Marginal Workers - Rural -  Persons  12047 non-null  int64 \n",
      " 20  Marginal Workers - Rural - Males     12047 non-null  int64 \n",
      " 21  Marginal Workers - Rural - Females   12047 non-null  int64 \n",
      " 22  Marginal Workers - Urban -  Persons  12047 non-null  int64 \n",
      " 23  Marginal Workers - Urban - Males     12047 non-null  int64 \n",
      " 24  Marginal Workers - Urban - Females   12047 non-null  int64 \n",
      "dtypes: int64(18), object(7)\n",
      "memory usage: 2.3+ MB\n",
      "None\n"
     ]
    },
    {
     "name": "stderr",
     "output_type": "stream",
     "text": [
      "C:\\Users\\Admin\\AppData\\Local\\Temp\\ipykernel_6348\\3469120906.py:16: FutureWarning: A value is trying to be set on a copy of a DataFrame or Series through chained assignment using an inplace method.\n",
      "The behavior will change in pandas 3.0. This inplace method will never work because the intermediate object on which we are setting values always behaves as a copy.\n",
      "\n",
      "For example, when doing 'df[col].method(value, inplace=True)', try using 'df.method({col: value}, inplace=True)' or df[col] = df[col].method(value) instead, to perform the operation inplace on the original object.\n",
      "\n",
      "\n",
      "  df[col].fillna(df[col].median(), inplace=True)\n",
      "C:\\Users\\Admin\\AppData\\Local\\Temp\\ipykernel_6348\\3469120906.py:16: FutureWarning: A value is trying to be set on a copy of a DataFrame or Series through chained assignment using an inplace method.\n",
      "The behavior will change in pandas 3.0. This inplace method will never work because the intermediate object on which we are setting values always behaves as a copy.\n",
      "\n",
      "For example, when doing 'df[col].method(value, inplace=True)', try using 'df.method({col: value}, inplace=True)' or df[col] = df[col].method(value) instead, to perform the operation inplace on the original object.\n",
      "\n",
      "\n",
      "  df[col].fillna(df[col].median(), inplace=True)\n",
      "C:\\Users\\Admin\\AppData\\Local\\Temp\\ipykernel_6348\\3469120906.py:16: FutureWarning: A value is trying to be set on a copy of a DataFrame or Series through chained assignment using an inplace method.\n",
      "The behavior will change in pandas 3.0. This inplace method will never work because the intermediate object on which we are setting values always behaves as a copy.\n",
      "\n",
      "For example, when doing 'df[col].method(value, inplace=True)', try using 'df.method({col: value}, inplace=True)' or df[col] = df[col].method(value) instead, to perform the operation inplace on the original object.\n",
      "\n",
      "\n",
      "  df[col].fillna(df[col].median(), inplace=True)\n",
      "C:\\Users\\Admin\\AppData\\Local\\Temp\\ipykernel_6348\\3469120906.py:16: FutureWarning: A value is trying to be set on a copy of a DataFrame or Series through chained assignment using an inplace method.\n",
      "The behavior will change in pandas 3.0. This inplace method will never work because the intermediate object on which we are setting values always behaves as a copy.\n",
      "\n",
      "For example, when doing 'df[col].method(value, inplace=True)', try using 'df.method({col: value}, inplace=True)' or df[col] = df[col].method(value) instead, to perform the operation inplace on the original object.\n",
      "\n",
      "\n",
      "  df[col].fillna(df[col].median(), inplace=True)\n",
      "C:\\Users\\Admin\\AppData\\Local\\Temp\\ipykernel_6348\\3469120906.py:16: FutureWarning: A value is trying to be set on a copy of a DataFrame or Series through chained assignment using an inplace method.\n",
      "The behavior will change in pandas 3.0. This inplace method will never work because the intermediate object on which we are setting values always behaves as a copy.\n",
      "\n",
      "For example, when doing 'df[col].method(value, inplace=True)', try using 'df.method({col: value}, inplace=True)' or df[col] = df[col].method(value) instead, to perform the operation inplace on the original object.\n",
      "\n",
      "\n",
      "  df[col].fillna(df[col].median(), inplace=True)\n",
      "C:\\Users\\Admin\\AppData\\Local\\Temp\\ipykernel_6348\\3469120906.py:16: FutureWarning: A value is trying to be set on a copy of a DataFrame or Series through chained assignment using an inplace method.\n",
      "The behavior will change in pandas 3.0. This inplace method will never work because the intermediate object on which we are setting values always behaves as a copy.\n",
      "\n",
      "For example, when doing 'df[col].method(value, inplace=True)', try using 'df.method({col: value}, inplace=True)' or df[col] = df[col].method(value) instead, to perform the operation inplace on the original object.\n",
      "\n",
      "\n",
      "  df[col].fillna(df[col].median(), inplace=True)\n",
      "C:\\Users\\Admin\\AppData\\Local\\Temp\\ipykernel_6348\\3469120906.py:16: FutureWarning: A value is trying to be set on a copy of a DataFrame or Series through chained assignment using an inplace method.\n",
      "The behavior will change in pandas 3.0. This inplace method will never work because the intermediate object on which we are setting values always behaves as a copy.\n",
      "\n",
      "For example, when doing 'df[col].method(value, inplace=True)', try using 'df.method({col: value}, inplace=True)' or df[col] = df[col].method(value) instead, to perform the operation inplace on the original object.\n",
      "\n",
      "\n",
      "  df[col].fillna(df[col].median(), inplace=True)\n",
      "C:\\Users\\Admin\\AppData\\Local\\Temp\\ipykernel_6348\\3469120906.py:16: FutureWarning: A value is trying to be set on a copy of a DataFrame or Series through chained assignment using an inplace method.\n",
      "The behavior will change in pandas 3.0. This inplace method will never work because the intermediate object on which we are setting values always behaves as a copy.\n",
      "\n",
      "For example, when doing 'df[col].method(value, inplace=True)', try using 'df.method({col: value}, inplace=True)' or df[col] = df[col].method(value) instead, to perform the operation inplace on the original object.\n",
      "\n",
      "\n",
      "  df[col].fillna(df[col].median(), inplace=True)\n",
      "C:\\Users\\Admin\\AppData\\Local\\Temp\\ipykernel_6348\\3469120906.py:16: FutureWarning: A value is trying to be set on a copy of a DataFrame or Series through chained assignment using an inplace method.\n",
      "The behavior will change in pandas 3.0. This inplace method will never work because the intermediate object on which we are setting values always behaves as a copy.\n",
      "\n",
      "For example, when doing 'df[col].method(value, inplace=True)', try using 'df.method({col: value}, inplace=True)' or df[col] = df[col].method(value) instead, to perform the operation inplace on the original object.\n",
      "\n",
      "\n",
      "  df[col].fillna(df[col].median(), inplace=True)\n",
      "C:\\Users\\Admin\\AppData\\Local\\Temp\\ipykernel_6348\\3469120906.py:16: FutureWarning: A value is trying to be set on a copy of a DataFrame or Series through chained assignment using an inplace method.\n",
      "The behavior will change in pandas 3.0. This inplace method will never work because the intermediate object on which we are setting values always behaves as a copy.\n",
      "\n",
      "For example, when doing 'df[col].method(value, inplace=True)', try using 'df.method({col: value}, inplace=True)' or df[col] = df[col].method(value) instead, to perform the operation inplace on the original object.\n",
      "\n",
      "\n",
      "  df[col].fillna(df[col].median(), inplace=True)\n",
      "C:\\Users\\Admin\\AppData\\Local\\Temp\\ipykernel_6348\\3469120906.py:16: FutureWarning: A value is trying to be set on a copy of a DataFrame or Series through chained assignment using an inplace method.\n",
      "The behavior will change in pandas 3.0. This inplace method will never work because the intermediate object on which we are setting values always behaves as a copy.\n",
      "\n",
      "For example, when doing 'df[col].method(value, inplace=True)', try using 'df.method({col: value}, inplace=True)' or df[col] = df[col].method(value) instead, to perform the operation inplace on the original object.\n",
      "\n",
      "\n",
      "  df[col].fillna(df[col].median(), inplace=True)\n",
      "C:\\Users\\Admin\\AppData\\Local\\Temp\\ipykernel_6348\\3469120906.py:16: FutureWarning: A value is trying to be set on a copy of a DataFrame or Series through chained assignment using an inplace method.\n",
      "The behavior will change in pandas 3.0. This inplace method will never work because the intermediate object on which we are setting values always behaves as a copy.\n",
      "\n",
      "For example, when doing 'df[col].method(value, inplace=True)', try using 'df.method({col: value}, inplace=True)' or df[col] = df[col].method(value) instead, to perform the operation inplace on the original object.\n",
      "\n",
      "\n",
      "  df[col].fillna(df[col].median(), inplace=True)\n",
      "C:\\Users\\Admin\\AppData\\Local\\Temp\\ipykernel_6348\\3469120906.py:16: FutureWarning: A value is trying to be set on a copy of a DataFrame or Series through chained assignment using an inplace method.\n",
      "The behavior will change in pandas 3.0. This inplace method will never work because the intermediate object on which we are setting values always behaves as a copy.\n",
      "\n",
      "For example, when doing 'df[col].method(value, inplace=True)', try using 'df.method({col: value}, inplace=True)' or df[col] = df[col].method(value) instead, to perform the operation inplace on the original object.\n",
      "\n",
      "\n",
      "  df[col].fillna(df[col].median(), inplace=True)\n",
      "C:\\Users\\Admin\\AppData\\Local\\Temp\\ipykernel_6348\\3469120906.py:16: FutureWarning: A value is trying to be set on a copy of a DataFrame or Series through chained assignment using an inplace method.\n",
      "The behavior will change in pandas 3.0. This inplace method will never work because the intermediate object on which we are setting values always behaves as a copy.\n",
      "\n",
      "For example, when doing 'df[col].method(value, inplace=True)', try using 'df.method({col: value}, inplace=True)' or df[col] = df[col].method(value) instead, to perform the operation inplace on the original object.\n",
      "\n",
      "\n",
      "  df[col].fillna(df[col].median(), inplace=True)\n",
      "C:\\Users\\Admin\\AppData\\Local\\Temp\\ipykernel_6348\\3469120906.py:16: FutureWarning: A value is trying to be set on a copy of a DataFrame or Series through chained assignment using an inplace method.\n",
      "The behavior will change in pandas 3.0. This inplace method will never work because the intermediate object on which we are setting values always behaves as a copy.\n",
      "\n",
      "For example, when doing 'df[col].method(value, inplace=True)', try using 'df.method({col: value}, inplace=True)' or df[col] = df[col].method(value) instead, to perform the operation inplace on the original object.\n",
      "\n",
      "\n",
      "  df[col].fillna(df[col].median(), inplace=True)\n",
      "C:\\Users\\Admin\\AppData\\Local\\Temp\\ipykernel_6348\\3469120906.py:16: FutureWarning: A value is trying to be set on a copy of a DataFrame or Series through chained assignment using an inplace method.\n",
      "The behavior will change in pandas 3.0. This inplace method will never work because the intermediate object on which we are setting values always behaves as a copy.\n",
      "\n",
      "For example, when doing 'df[col].method(value, inplace=True)', try using 'df.method({col: value}, inplace=True)' or df[col] = df[col].method(value) instead, to perform the operation inplace on the original object.\n",
      "\n",
      "\n",
      "  df[col].fillna(df[col].median(), inplace=True)\n",
      "C:\\Users\\Admin\\AppData\\Local\\Temp\\ipykernel_6348\\3469120906.py:16: FutureWarning: A value is trying to be set on a copy of a DataFrame or Series through chained assignment using an inplace method.\n",
      "The behavior will change in pandas 3.0. This inplace method will never work because the intermediate object on which we are setting values always behaves as a copy.\n",
      "\n",
      "For example, when doing 'df[col].method(value, inplace=True)', try using 'df.method({col: value}, inplace=True)' or df[col] = df[col].method(value) instead, to perform the operation inplace on the original object.\n",
      "\n",
      "\n",
      "  df[col].fillna(df[col].median(), inplace=True)\n",
      "C:\\Users\\Admin\\AppData\\Local\\Temp\\ipykernel_6348\\3469120906.py:16: FutureWarning: A value is trying to be set on a copy of a DataFrame or Series through chained assignment using an inplace method.\n",
      "The behavior will change in pandas 3.0. This inplace method will never work because the intermediate object on which we are setting values always behaves as a copy.\n",
      "\n",
      "For example, when doing 'df[col].method(value, inplace=True)', try using 'df.method({col: value}, inplace=True)' or df[col] = df[col].method(value) instead, to perform the operation inplace on the original object.\n",
      "\n",
      "\n",
      "  df[col].fillna(df[col].median(), inplace=True)\n",
      "C:\\Users\\Admin\\AppData\\Local\\Temp\\ipykernel_6348\\3469120906.py:21: FutureWarning: A value is trying to be set on a copy of a DataFrame or Series through chained assignment using an inplace method.\n",
      "The behavior will change in pandas 3.0. This inplace method will never work because the intermediate object on which we are setting values always behaves as a copy.\n",
      "\n",
      "For example, when doing 'df[col].method(value, inplace=True)', try using 'df.method({col: value}, inplace=True)' or df[col] = df[col].method(value) instead, to perform the operation inplace on the original object.\n",
      "\n",
      "\n",
      "  df[col].fillna(df[col].mode()[0], inplace=True)\n"
     ]
    }
   ],
   "source": [
    "import pandas as pd\n",
    "import numpy as np\n",
    "\n",
    "# Assuming df is your DataFrame\n",
    "# Load your DataFrame\n",
    "# df = pd.read_csv('your_data.csv')\n",
    "\n",
    "# Handling numerical columns\n",
    "numerical_cols = df.select_dtypes(include=[np.number]).columns\n",
    "for col in numerical_cols:\n",
    "    if df[col].dtype == 'float64':\n",
    "        # Use mean for float columns\n",
    "        df[col].fillna(df[col].mean(), inplace=True)\n",
    "    elif df[col].dtype == 'int64':\n",
    "        # Use median for int columns\n",
    "        df[col].fillna(df[col].median(), inplace=True)\n",
    "\n",
    "# Handling categorical columns\n",
    "categorical_cols = df.select_dtypes(include=[object]).columns\n",
    "for col in categorical_cols:\n",
    "    df[col].fillna(df[col].mode()[0], inplace=True)\n",
    "\n",
    "# Check the DataFrame after filling missing values\n",
    "print(df.info())"
   ]
  },
  {
   "cell_type": "code",
   "execution_count": 69,
   "metadata": {},
   "outputs": [
    {
     "name": "stdout",
     "output_type": "stream",
     "text": [
      "<class 'pandas.core.frame.DataFrame'>\n",
      "RangeIndex: 12047 entries, 0 to 12046\n",
      "Data columns (total 25 columns):\n",
      " #   Column                               Non-Null Count  Dtype \n",
      "---  ------                               --------------  ----- \n",
      " 0   State Code                           12047 non-null  object\n",
      " 1   District Code                        12047 non-null  object\n",
      " 2   India/States                         12047 non-null  object\n",
      " 3   Division                             12047 non-null  object\n",
      " 4   Group                                12047 non-null  object\n",
      " 5   Class                                12047 non-null  object\n",
      " 6   NIC Name                             12047 non-null  object\n",
      " 7   Main Workers - Total -  Persons      12047 non-null  int64 \n",
      " 8   Main Workers - Total - Males         12047 non-null  int64 \n",
      " 9   Main Workers - Total - Females       12047 non-null  int64 \n",
      " 10  Main Workers - Rural -  Persons      12047 non-null  int64 \n",
      " 11  Main Workers - Rural - Males         12047 non-null  int64 \n",
      " 12  Main Workers - Rural - Females       12047 non-null  int64 \n",
      " 13  Main Workers - Urban -  Persons      12047 non-null  int64 \n",
      " 14  Main Workers - Urban - Males         12047 non-null  int64 \n",
      " 15  Main Workers - Urban - Females       12047 non-null  int64 \n",
      " 16  Marginal Workers - Total -  Persons  12047 non-null  int64 \n",
      " 17  Marginal Workers - Total - Males     12047 non-null  int64 \n",
      " 18  Marginal Workers - Total - Females   12047 non-null  int64 \n",
      " 19  Marginal Workers - Rural -  Persons  12047 non-null  int64 \n",
      " 20  Marginal Workers - Rural - Males     12047 non-null  int64 \n",
      " 21  Marginal Workers - Rural - Females   12047 non-null  int64 \n",
      " 22  Marginal Workers - Urban -  Persons  12047 non-null  int64 \n",
      " 23  Marginal Workers - Urban - Males     12047 non-null  int64 \n",
      " 24  Marginal Workers - Urban - Females   12047 non-null  int64 \n",
      "dtypes: int64(18), object(7)\n",
      "memory usage: 2.3+ MB\n",
      "None\n"
     ]
    }
   ],
   "source": [
    "# Drop duplicate rows\n",
    "df.drop_duplicates(inplace=True)\n",
    "\n",
    "# Reset the index in place\n",
    "df.reset_index(drop=True, inplace=True)\n",
    "\n",
    "# Check the DataFrame to confirm the changes\n",
    "print(df.info())"
   ]
  },
  {
   "cell_type": "code",
   "execution_count": 70,
   "metadata": {},
   "outputs": [
    {
     "data": {
      "text/plain": [
       "State Code                             0\n",
       "District Code                          0\n",
       "India/States                           0\n",
       "Division                               0\n",
       "Group                                  0\n",
       "Class                                  0\n",
       "NIC Name                               0\n",
       "Main Workers - Total -  Persons        0\n",
       "Main Workers - Total - Males           0\n",
       "Main Workers - Total - Females         0\n",
       "Main Workers - Rural -  Persons        0\n",
       "Main Workers - Rural - Males           0\n",
       "Main Workers - Rural - Females         0\n",
       "Main Workers - Urban -  Persons        0\n",
       "Main Workers - Urban - Males           0\n",
       "Main Workers - Urban - Females         0\n",
       "Marginal Workers - Total -  Persons    0\n",
       "Marginal Workers - Total - Males       0\n",
       "Marginal Workers - Total - Females     0\n",
       "Marginal Workers - Rural -  Persons    0\n",
       "Marginal Workers - Rural - Males       0\n",
       "Marginal Workers - Rural - Females     0\n",
       "Marginal Workers - Urban -  Persons    0\n",
       "Marginal Workers - Urban - Males       0\n",
       "Marginal Workers - Urban - Females     0\n",
       "dtype: int64"
      ]
     },
     "execution_count": 70,
     "metadata": {},
     "output_type": "execute_result"
    }
   ],
   "source": [
    "df.isnull().sum()\n"
   ]
  },
  {
   "cell_type": "code",
   "execution_count": 71,
   "metadata": {},
   "outputs": [
    {
     "name": "stdout",
     "output_type": "stream",
     "text": [
      "Percentage of non-null values in 'State Code': 100.00%\n",
      "Percentage of non-null values in 'District Code': 100.00%\n",
      "Percentage of non-null values in 'India/States': 100.00%\n",
      "Percentage of non-null values in 'Division': 100.00%\n",
      "Percentage of non-null values in 'Group': 100.00%\n",
      "Percentage of non-null values in 'Class': 100.00%\n",
      "Percentage of non-null values in 'NIC Name': 100.00%\n",
      "Percentage of non-null values in 'Main Workers - Total -  Persons': 100.00%\n",
      "Percentage of non-null values in 'Main Workers - Total - Males': 100.00%\n",
      "Percentage of non-null values in 'Main Workers - Total - Females': 100.00%\n",
      "Percentage of non-null values in 'Main Workers - Rural -  Persons': 100.00%\n",
      "Percentage of non-null values in 'Main Workers - Rural - Males': 100.00%\n",
      "Percentage of non-null values in 'Main Workers - Rural - Females': 100.00%\n",
      "Percentage of non-null values in 'Main Workers - Urban -  Persons': 100.00%\n",
      "Percentage of non-null values in 'Main Workers - Urban - Males': 100.00%\n",
      "Percentage of non-null values in 'Main Workers - Urban - Females': 100.00%\n",
      "Percentage of non-null values in 'Marginal Workers - Total -  Persons': 100.00%\n",
      "Percentage of non-null values in 'Marginal Workers - Total - Males': 100.00%\n",
      "Percentage of non-null values in 'Marginal Workers - Total - Females': 100.00%\n",
      "Percentage of non-null values in 'Marginal Workers - Rural -  Persons': 100.00%\n",
      "Percentage of non-null values in 'Marginal Workers - Rural - Males': 100.00%\n",
      "Percentage of non-null values in 'Marginal Workers - Rural - Females': 100.00%\n",
      "Percentage of non-null values in 'Marginal Workers - Urban -  Persons': 100.00%\n",
      "Percentage of non-null values in 'Marginal Workers - Urban - Males': 100.00%\n",
      "Percentage of non-null values in 'Marginal Workers - Urban - Females': 100.00%\n"
     ]
    }
   ],
   "source": [
    "# Calculate the percentage of non-null values for each column\n",
    "percentage_non_null = (df.notnull().sum() / len(df)) * 100\n",
    "\n",
    "# Print the percentage of non-null values for each column\n",
    "for column, percentage in percentage_non_null.items():\n",
    "    print(f\"Percentage of non-null values in '{column}': {percentage:.2f}%\")"
   ]
  },
  {
   "cell_type": "code",
   "execution_count": 72,
   "metadata": {},
   "outputs": [
    {
     "name": "stdout",
     "output_type": "stream",
     "text": [
      "Main Workers - Total -  Persons        82.590423\n",
      "Main Workers - Total - Males           81.535897\n",
      "Main Workers - Total - Females         77.437463\n",
      "Main Workers - Rural -  Persons        82.436301\n",
      "Main Workers - Rural - Males           81.531510\n",
      "Main Workers - Rural - Females         75.311102\n",
      "Main Workers - Urban -  Persons        77.796336\n",
      "Main Workers - Urban - Males           77.168489\n",
      "Main Workers - Urban - Females         74.628525\n",
      "Marginal Workers - Total -  Persons    70.337110\n",
      "Marginal Workers - Total - Males       72.157135\n",
      "Marginal Workers - Total - Females     63.609055\n",
      "Marginal Workers - Rural -  Persons    69.195012\n",
      "Marginal Workers - Rural - Males       71.651246\n",
      "Marginal Workers - Rural - Females     62.166369\n",
      "Marginal Workers - Urban -  Persons    70.630561\n",
      "Marginal Workers - Urban - Males       70.144781\n",
      "Marginal Workers - Urban - Females     68.747972\n",
      "dtype: float64\n"
     ]
    }
   ],
   "source": [
    "# Assuming your DataFrame is named df\n",
    "numeric_columns = df.select_dtypes(include=['int64', 'float64']).columns\n",
    "skewness = df[numeric_columns].skew()\n",
    "\n",
    "# Display skewness values\n",
    "print(skewness)\n",
    "\n"
   ]
  },
  {
   "cell_type": "code",
   "execution_count": 73,
   "metadata": {},
   "outputs": [
    {
     "name": "stdout",
     "output_type": "stream",
     "text": [
      "State Code                             category\n",
      "District Code                          category\n",
      "India/States                           category\n",
      "Division                               category\n",
      "Group                                  category\n",
      "Class                                  category\n",
      "NIC Name                               category\n",
      "Main Workers - Total -  Persons           int64\n",
      "Main Workers - Total - Males              int64\n",
      "Main Workers - Total - Females            int64\n",
      "Main Workers - Rural -  Persons           int64\n",
      "Main Workers - Rural - Males              int64\n",
      "Main Workers - Rural - Females            int64\n",
      "Main Workers - Urban -  Persons           int64\n",
      "Main Workers - Urban - Males              int64\n",
      "Main Workers - Urban - Females            int64\n",
      "Marginal Workers - Total -  Persons       int64\n",
      "Marginal Workers - Total - Males          int64\n",
      "Marginal Workers - Total - Females        int64\n",
      "Marginal Workers - Rural -  Persons       int64\n",
      "Marginal Workers - Rural - Males          int64\n",
      "Marginal Workers - Rural - Females        int64\n",
      "Marginal Workers - Urban -  Persons       int64\n",
      "Marginal Workers - Urban - Males          int64\n",
      "Marginal Workers - Urban - Females        int64\n",
      "dtype: object\n"
     ]
    }
   ],
   "source": [
    "# Identify object columns\n",
    "object_columns = df.select_dtypes(include=['object']).columns\n",
    "\n",
    "# Convert object columns to categorical\n",
    "df[object_columns] = df[object_columns].astype('category')\n",
    "\n",
    "# Verify the changes\n",
    "print(df.dtypes)"
   ]
  },
  {
   "cell_type": "code",
   "execution_count": 74,
   "metadata": {},
   "outputs": [
    {
     "name": "stdout",
     "output_type": "stream",
     "text": [
      "<class 'pandas.core.frame.DataFrame'>\n",
      "RangeIndex: 12047 entries, 0 to 12046\n",
      "Data columns (total 25 columns):\n",
      " #   Column                               Non-Null Count  Dtype   \n",
      "---  ------                               --------------  -----   \n",
      " 0   State Code                           12047 non-null  category\n",
      " 1   District Code                        12047 non-null  category\n",
      " 2   India/States                         12047 non-null  category\n",
      " 3   Division                             12047 non-null  category\n",
      " 4   Group                                12047 non-null  category\n",
      " 5   Class                                12047 non-null  category\n",
      " 6   NIC Name                             12047 non-null  category\n",
      " 7   Main Workers - Total -  Persons      12047 non-null  int64   \n",
      " 8   Main Workers - Total - Males         12047 non-null  int64   \n",
      " 9   Main Workers - Total - Females       12047 non-null  int64   \n",
      " 10  Main Workers - Rural -  Persons      12047 non-null  int64   \n",
      " 11  Main Workers - Rural - Males         12047 non-null  int64   \n",
      " 12  Main Workers - Rural - Females       12047 non-null  int64   \n",
      " 13  Main Workers - Urban -  Persons      12047 non-null  int64   \n",
      " 14  Main Workers - Urban - Males         12047 non-null  int64   \n",
      " 15  Main Workers - Urban - Females       12047 non-null  int64   \n",
      " 16  Marginal Workers - Total -  Persons  12047 non-null  int64   \n",
      " 17  Marginal Workers - Total - Males     12047 non-null  int64   \n",
      " 18  Marginal Workers - Total - Females   12047 non-null  int64   \n",
      " 19  Marginal Workers - Rural -  Persons  12047 non-null  int64   \n",
      " 20  Marginal Workers - Rural - Males     12047 non-null  int64   \n",
      " 21  Marginal Workers - Rural - Females   12047 non-null  int64   \n",
      " 22  Marginal Workers - Urban -  Persons  12047 non-null  int64   \n",
      " 23  Marginal Workers - Urban - Males     12047 non-null  int64   \n",
      " 24  Marginal Workers - Urban - Females   12047 non-null  int64   \n",
      "dtypes: category(7), int64(18)\n",
      "memory usage: 1.8 MB\n",
      "None\n"
     ]
    }
   ],
   "source": [
    "print(df.info())\n"
   ]
  }
 ],
 "metadata": {
  "kernelspec": {
   "display_name": ".venv",
   "language": "python",
   "name": "python3"
  },
  "language_info": {
   "codemirror_mode": {
    "name": "ipython",
    "version": 3
   },
   "file_extension": ".py",
   "mimetype": "text/x-python",
   "name": "python",
   "nbconvert_exporter": "python",
   "pygments_lexer": "ipython3",
   "version": "3.10.11"
  }
 },
 "nbformat": 4,
 "nbformat_minor": 2
}
